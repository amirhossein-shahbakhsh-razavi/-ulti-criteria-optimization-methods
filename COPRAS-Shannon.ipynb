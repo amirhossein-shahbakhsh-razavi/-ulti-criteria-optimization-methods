{
 "cells": [
  {
   "cell_type": "code",
   "execution_count": 1,
   "id": "a332f394",
   "metadata": {},
   "outputs": [
    {
     "name": "stdout",
     "output_type": "stream",
     "text": [
      "a1: 0.898\n",
      "a2: 0.89\n",
      "a3: 1.0\n",
      "a4: 0.887\n",
      "a5: 0.897\n",
      "a6: 0.86\n"
     ]
    },
    {
     "data": {
      "image/png": "[encoded data removed]",
      "text/plain": [
       "<Figure size 432x288 with 1 Axes>"
      ]
     },
     "metadata": {
      "needs_background": "light"
     },
     "output_type": "display_data"
    }
   ],
   "source": [
    "#COPRAS-Shannon\n",
    "import numpy as np\n",
    "\n",
    "from pyDecision.algorithm import copras_method\n",
    "# COPRAS\n",
    "\n",
    "# Weights\n",
    "weights = np.array([0.1177, 0.2310, 0.1644, 0.1243, 0.0904, 0.1881, 0.0822])\n",
    "\n",
    "# Load Criterion Type: 'max' or 'min'\n",
    "criterion_type = ['max', 'max', 'min', 'max', 'max', 'max', 'max']\n",
    "\n",
    "# Dataset\n",
    "dataset = np.array([\n",
    "                    [4.6, 4.0, 0.120, 4.5, 4.5,4.5,  4.0],   #CSp1\n",
    "                    [4.5, 4.0, 0.107, 4.4, 4.0, 4.3, 4.0],   #CSp2\n",
    "                    [4.6, 4.0, 0.067, 4.5, 4.0, 4.5, 4.4],   #Csp3\n",
    "                    [4.3, 5.0, 0.198, 4.3, 5.0, 4.4, 4.0],   #Csp4\n",
    "                    [4.4, 5.0, 0.119, 4.3, 3.0, 4.4, 4.0],   #Csp5\n",
    "                    [4.4, 5.0, 0.106, 4.3, 1.0, 4.2, 4.0],   #CSp6\n",
    "                    ])\n",
    "\n",
    "# Call COPRAS Function\n",
    "rank = copras_method(dataset, weights, criterion_type, graph = True)"
   ]
  }
 ],
 "metadata": {
  "kernelspec": {
   "display_name": "Python 3",
   "language": "python",
   "name": "python3"
  },
  "language_info": {
   "codemirror_mode": {
    "name": "ipython",
    "version": 3
   },
   "file_extension": ".py",
   "mimetype": "text/x-python",
   "name": "python",
   "nbconvert_exporter": "python",
   "pygments_lexer": "ipython3",
   "version": "3.8.8"
  }
 },
 "nbformat": 4,
 "nbformat_minor": 5
}
